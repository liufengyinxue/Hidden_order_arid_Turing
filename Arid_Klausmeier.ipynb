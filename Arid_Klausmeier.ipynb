{
 "cells": [
  {
   "cell_type": "code",
   "execution_count": 1,
   "id": "27855c65-eef5-4e40-adb4-6d4c1cbd83c0",
   "metadata": {
    "tags": []
   },
   "outputs": [],
   "source": [
    "%reset -f \n",
    "from __future__ import absolute_import, print_function\n",
    "import time\n",
    "import numpy as np\n",
    "import pyopencl as cl\n",
    "import matplotlib.pyplot as plt\n",
    "import matplotlib.animation as animation\n",
    "from scipy import signal\n",
    "from matplotlib import rcParams\n",
    "from scipy import io\n",
    "import os\n",
    "\n",
    "import locale\n",
    "os.environ[\"PYTHONIOENCODING\"] = \"utf-8\""
   ]
  },
  {
   "cell_type": "code",
   "execution_count": 2,
   "id": "e38d039a-906e-46fb-aa26-69ec03275b08",
   "metadata": {
    "tags": []
   },
   "outputs": [
    {
     "name": "stdout",
     "output_type": "stream",
     "text": [
      " Current grid dimensions: 4096 x 4096 cells\n",
      "\n",
      " Compute Device: AMD Radeon Pro Vega 56 Compute Engine\n",
      "\n",
      "Progress :\n"
     ]
    },
    {
     "data": {
      "application/vnd.jupyter.widget-view+json": {
       "model_id": "28d30d83ca6842219fa53656d7cb97b1",
       "version_major": 2,
       "version_minor": 0
      },
      "text/plain": [
       "FloatProgress(value=0.0, max=101.0)"
      ]
     },
     "metadata": {},
     "output_type": "display_data"
    },
    {
     "name": "stdout",
     "output_type": "stream",
     "text": [
      " Simulation took      : 18378.1 (s)\n"
     ]
    }
   ],
   "source": [
    "# parameters\n",
    "a       = 0.45\n",
    "m0      = 0.45 \n",
    "DS      = 500.0\n",
    "DB      = 1.0\n",
    "\n",
    "# Spatial and temporal setting\n",
    "length      = 2048.0      # 2.5 Length of the physical landscape\n",
    "n           = 4096       # Size of the 2D grid\n",
    "endtime     = 1000.0    # end time 400.0\n",
    "dT          = 0.0001     # 0.02     #calculate time step\n",
    "nplot       = 101\n",
    "nsteps      = np.ceil(endtime/nplot/dT).astype(int)    # number of time steps\n",
    "dX          = length/n      # Spatial step size\n",
    "dY          = length/n      # Spatial step size\n",
    "Grid_Width  = n\n",
    "Grid_Height = n\n",
    "# %% Reporting in the simulation on the console\n",
    "print(\" Current grid dimensions: %d x %d cells\\n\" % (Grid_Width, Grid_Height));\n",
    "\n",
    "# Setting up the OpenCL context\n",
    "DeviceNr = 1   # 0 = GTX 960M\n",
    "platform = cl.get_platforms()\n",
    "Devices  = platform[0].get_devices()  # 0 = GPU\n",
    "context  = cl.Context([Devices[DeviceNr]])\n",
    "queue    = cl.CommandQueue(context)\n",
    "mf       = cl.mem_flags # Memory flags are set\n",
    "print(\" Compute Device: %s\\n\" % Devices[DeviceNr].name)\n",
    "\n",
    "# Initial condition\n",
    "S        = 2*np.ones(n*n)\n",
    "S_host   = S.astype(np.float32)\n",
    "S_g      = cl.Buffer(context, mf.READ_WRITE | mf.COPY_HOST_PTR, hostbuf=S_host)\n",
    "\n",
    "BB       = np.random.rand(n*n)\n",
    "B        = np.where(BB<0.1,10,0)\n",
    "B_host   = B.astype(np.float32)\n",
    "B_g      = cl.Buffer(context, mf.READ_WRITE | mf.COPY_HOST_PTR, hostbuf=B_host)\n",
    "\n",
    "# Load opencl function\n",
    "with open('SpatialFunctions_iPy.cl', 'r',encoding='utf-8') as myfile:\n",
    "   SpatialFunctions = myfile.read()\n",
    "\n",
    "# List of parameters for the OpenCL kernel. Seperate with comma without spaces\n",
    "# Setting up the parameters for the Kernel\n",
    "PassVars=\"DB,DS,a,m0,dX,dY,dT,Grid_Width,Grid_Height\"\n",
    "PassVals=eval(PassVars)\n",
    "PassVars=PassVars.split(',')\n",
    "Params=\"\"\n",
    "for ii in range(len(PassVals)):\n",
    "    Params = Params+\"#define \" + PassVars[ii] + \" \" + str(PassVals[ii]) + \" \\n\"\n",
    "\n",
    "ComputeCode = \"\"\"\n",
    "///////////////////////////////////////////////////////////////////////////////\n",
    "// Simulation kernel\n",
    "///////////////////////////////////////////////////////////////////////////////   \n",
    "\n",
    "__kernel void SimulationKernel (__global float* S, __global float* B)\n",
    "{\n",
    "    size_t current  = get_global_id(0);\n",
    "    size_t row      = floor((float)current/(float)Grid_Width);\n",
    "    size_t column   = current%Grid_Width;\n",
    "\n",
    "        if (row > 0 && row < Grid_Width-1 && column > 0 && column < Grid_Height-1)\n",
    "            {\n",
    "             float dSdt = a - S[current] - S[current]*B[current]*B[current] + DS*d2_dxy2(S) ;\n",
    "             float dBdt = S[current]*B[current]*B[current] - m0*B[current] + DB*d2_dxy2(B);\n",
    "             S[current] = S[current] + dSdt*dT;\n",
    "             B[current] = B[current] + dBdt*dT;\n",
    "            }\n",
    "            \n",
    "        // HANDLE Boundaries\n",
    "        else \n",
    "            {\n",
    "             PeriodicBoundaries(S);\n",
    "             PeriodicBoundaries(B);\n",
    "            }\n",
    "\n",
    "} // End SimulationKernel\n",
    "\"\"\"\n",
    "\n",
    "program = cl.Program(context, Params + SpatialFunctions + ComputeCode).build()\n",
    "\n",
    "from ipywidgets import FloatProgress\n",
    "from IPython.display import display\n",
    "\n",
    "# Setting up a progress bar for the simulation\n",
    "print(\"Progress :\");\n",
    "PB = FloatProgress(min=0, max=nplot); display(PB) \n",
    "\n",
    "#Ss=np.zeros((Grid_Width, Grid_Height, nplot))\n",
    "#Bs=np.zeros((Grid_Width, Grid_Height, nplot))\n",
    "\n",
    "# Set up simulation parameters\n",
    "global_size = S_host.shape\n",
    "\n",
    "# Start the timer:\n",
    "start_time = time.time()\n",
    "\n",
    "# Starting the loop\n",
    "for ii in range(1,nplot):\n",
    "    # The simulation\n",
    "    for jj in range(1,nsteps):      \n",
    "        program.SimulationKernel(queue, global_size, None, S_g, B_g)\n",
    "\n",
    "    # Get the data from the GPU\n",
    "    cl.enqueue_copy(queue, S_host, S_g)\n",
    "    cl.enqueue_copy(queue, B_host, B_g)\n",
    "    \n",
    "    # We store the state of the system for <NumPlot> different times.\n",
    "    Ss = S_host.reshape(Grid_Width, Grid_Height)\n",
    "    Bs = B_host.reshape(Grid_Width, Grid_Height)\n",
    "    io.savemat('a0.45/Arid_'+str(ii)+'.mat',{'B':Bs})\n",
    "    PB.value += 1 # signal to increment the progress bar\n",
    "\n",
    "# Determining the time that we used for the simulation\n",
    "elapsed_time = time.time() - start_time    \n",
    "print(\" Simulation took      : %1.1f (s)\" % (elapsed_time))"
   ]
  },
  {
   "cell_type": "code",
   "execution_count": 3,
   "id": "58aa6484-7fa7-46bc-8db8-998f17dc9aa5",
   "metadata": {
    "tags": []
   },
   "outputs": [
    {
     "data": {
      "text/plain": [
       "<matplotlib.colorbar.Colorbar at 0x7fc2e0074f70>"
      ]
     },
     "execution_count": 3,
     "metadata": {},
     "output_type": "execute_result"
    },
    {
     "data": {
      "image/png": "[encoded data removed]",
      "text/plain": [
       "<Figure size 640x480 with 2 Axes>"
      ]
     },
     "metadata": {},
     "output_type": "display_data"
    }
   ],
   "source": [
    "Bs = B_host.reshape(Grid_Width,Grid_Height)\n",
    "plt.imshow(Bs)\n",
    "plt.colorbar()"
   ]
  },
  {
   "cell_type": "code",
   "execution_count": 4,
   "id": "8dad8062-3438-4f20-939a-9b0a22dea493",
   "metadata": {
    "tags": []
   },
   "outputs": [
    {
     "name": "stdout",
     "output_type": "stream",
     "text": [
      "11.968953\n"
     ]
    }
   ],
   "source": [
    "print(np.max(B_host))"
   ]
  },
  {
   "cell_type": "markdown",
   "id": "986d4ec8-a7ac-4afd-8760-e82e679c6860",
   "metadata": {
    "tags": []
   },
   "source": [
    "from scipy import io\n",
    "\n",
    "io.savemat('data.mat',{'B':Bs})"
   ]
  },
  {
   "cell_type": "markdown",
   "id": "e7ce4068-2e75-431d-8790-7e2349208c51",
   "metadata": {
    "tags": []
   },
   "source": [
    "print('P80/Arid_'+str(1)+'.mat')"
   ]
  }
 ],
 "metadata": {
  "kernelspec": {
   "display_name": "Python 3 (ipykernel)",
   "language": "python",
   "name": "python3"
  },
  "language_info": {
   "codemirror_mode": {
    "name": "ipython",
    "version": 3
   },
   "file_extension": ".py",
   "mimetype": "text/x-python",
   "name": "python",
   "nbconvert_exporter": "python",
   "pygments_lexer": "ipython3",
   "version": "3.8.16"
  }
 },
 "nbformat": 4,
 "nbformat_minor": 5
}

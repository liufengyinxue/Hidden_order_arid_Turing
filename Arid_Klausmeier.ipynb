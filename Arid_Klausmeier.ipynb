clear all; close all; clc ;
N = 256 ;
T = 1e7 ;
a = 0.6 ; %  0.5,3.5
m = 0.45 ;
V = 0 ; % 182.5
Dw = 500 ; % fixed
dx = 0.5 ;
dy = 0.5 ;
dt = 0.0001 ;
kernel = [0,1/(dx*dx),0;1/(dy*dy),-2/(dx*dx)-2/(dy*dy),1/(dy*dy);0,1/(dx*dx),0] ;
kernelx = [-1/(2*dx),0,1/(2*dx)] ;
kernely = [-1/(2*dy);0;1/(2*dy)] ;

% % a>2*m
% n = (a + sqrt(a^2 - 4*m^2))/(2*m) + 0.01*(2*rand(N) - 1) ;
% w = 2*m^2/(a + sqrt(a^2 - 4*m^2)) + zeros(N) ;

w = 2*ones(N) ; 
nn = rand(N) ;
n = zeros(N) ;
n(nn < 0.1) = 10 ;

F1 = figure('position',[200 20 600 600]) ;
Videoname = ['Extend_Klausmeier_' num2str(N) '_T' num2str(T)] ;
V1 = VideoWriter(Videoname,'MPEG-4') ; % 'MPEG-4'
V1.FrameRate = 30 ;
V1.Quality = 100 ;
open(V1) ;
for i = 1:T
    if rem(i - 1,1000) == 0
        figure(F1) ;
        subplot(1,2,1) ;
        imagesc(w) ;
        axis equal
        xlim([0 N]) ;
        ylim([0 N]) ;
        colorbar ; 
%         caxis([0,1]) ;
        title('Water') ;
        subplot(1,2,2) ;
        imagesc(n) ;
        axis equal 
        xlim([0 N]) ;
        ylim([0 N]) ;
        colorbar ; 
%         caxis([0,1]) ;
        title('Plant') ;
        Frame = getframe(gcf) ;
        writeVideo(V1,Frame) ;
    end
    wi = a - w - w.*n.^2 + Dw*imfilter(w,kernel,'circular') ; % 'symmetric' 'circular'  + V*imfilter(w,kernely,'circular')
    ni = w.*n.^2 - m*n + imfilter(n,kernel,'circular') ;
    w = w + dt*wi ;
    n = n + dt*ni ;
end
close(V1);
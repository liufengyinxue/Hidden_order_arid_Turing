{
 "cells": [
  {
   "cell_type": "code",
   "execution_count": 1,
   "id": "27855c65-eef5-4e40-adb4-6d4c1cbd83c0",
   "metadata": {
    "tags": []
   },
   "outputs": [],
   "source": [
    "%reset -f \n",
    "from __future__ import absolute_import, print_function\n",
    "import time\n",
    "import numpy as np\n",
    "import pyopencl as cl\n",
    "import matplotlib.pyplot as plt\n",
    "import matplotlib.animation as animation\n",
    "from scipy import signal\n",
    "from matplotlib import rcParams\n",
    "from scipy import io\n",
    "import os\n",
    "\n",
    "import locale\n",
    "os.environ[\"PYTHONIOENCODING\"] = \"utf-8\""
   ]
  },
  {
   "cell_type": "code",
   "execution_count": null,
   "id": "e38d039a-906e-46fb-aa26-69ec03275b08",
   "metadata": {
    "tags": []
   },
   "outputs": [
    {
     "name": "stdout",
     "output_type": "stream",
     "text": [
      " Current grid dimensions: 4096 x 4096 cells\n",
      "\n",
      " Compute Device: AMD Radeon Pro Vega 56 Compute Engine\n",
      "\n",
      "Progress :\n"
     ]
    },
    {
     "data": {
      "application/vnd.jupyter.widget-view+json": {
       "model_id": "cc50aeef36c6465ab62a4f66dab7d83e",
       "version_major": 2,
       "version_minor": 0
      },
      "text/plain": [
       "FloatProgress(value=0.0, max=101.0)"
      ]
     },
     "metadata": {},
     "output_type": "display_data"
    }
   ],
   "source": [
    "# parameters\n",
    "K       = 0.666\n",
    "Q       = 1.2\n",
    "M0      = 2.0\n",
    "A       = 120.0\n",
    "NW      = 1.5\n",
    "NH      = 4.5\n",
    "E       = 1.5\n",
    "Lambda1 = 0.03\n",
    "Gamma   = 14.0\n",
    "DB      = 0.1\n",
    "DW      = 2.5\n",
    "DH      = 4.0\n",
    "P       = 300.0\n",
    "RW      = 0.3\n",
    "RH      = 0.8\n",
    "f       = 0.01\n",
    "\n",
    "q       = Q/K\n",
    "nuw     = NW/M0\n",
    "nuh     = NH/M0\n",
    "alpha   = A/M0\n",
    "eta     = E*K\n",
    "gamma   = Gamma*K/M0\n",
    "p       = P*Lambda1/(M0*M0) #\n",
    "deltaw  = DW/DB\n",
    "deltah  = DH*M0/(DB*Lambda1)\n",
    "Rw      = RW\n",
    "Rh      = RH\n",
    "\n",
    "\n",
    "# Spatial and temporal setting\n",
    "length      = 4096.0      # Length of the physical landscape\n",
    "n           = 4096       # Size of the 2D grid\n",
    "endtime     = 40.0    # end time 800.0\n",
    "dT          = 0.00004     # \n",
    "nplot       = 101\n",
    "nsteps      = np.ceil(endtime/nplot/dT).astype(int)    # number of time steps\n",
    "dX          = length/n      # Spatial step size\n",
    "dY          = length/n      # Spatial step size\n",
    "Grid_Width  = n\n",
    "Grid_Height = n\n",
    "# %% Reporting in the simulation on the console\n",
    "print(\" Current grid dimensions: %d x %d cells\\n\" % (Grid_Width, Grid_Height));\n",
    "\n",
    "# Setting up the OpenCL context\n",
    "DeviceNr = 1   # 0 = GTX 960M\n",
    "platform = cl.get_platforms()\n",
    "Devices  = platform[0].get_devices()  # 0 = GPU\n",
    "context  = cl.Context([Devices[DeviceNr]])\n",
    "queue    = cl.CommandQueue(context)\n",
    "mf       = cl.mem_flags # Memory flags are set\n",
    "print(\" Compute Device: %s\\n\" % Devices[DeviceNr].name)\n",
    "\n",
    "# Initial condition\n",
    "H        = p/(alpha*f+nuh)+np.zeros(n*n)\n",
    "H_host   = H.astype(np.float64)\n",
    "H_g      = cl.Buffer(context, mf.READ_WRITE | mf.COPY_HOST_PTR, hostbuf=H_host)\n",
    "\n",
    "CoefH    = np.zeros(n*n)\n",
    "CoefH_host   = CoefH.astype(np.float64)\n",
    "CoefH_g      = cl.Buffer(context, mf.READ_WRITE | mf.COPY_HOST_PTR, hostbuf=CoefH_host)\n",
    "\n",
    "W        = alpha*f*p/(nuw*(alpha*f+nuh))+np.zeros(n*n)\n",
    "W_host   = W.astype(np.float64)\n",
    "W_g      = cl.Buffer(context, mf.READ_WRITE | mf.COPY_HOST_PTR, hostbuf=W_host)\n",
    "\n",
    "BB       = np.random.rand(n*n)\n",
    "B        = np.where(BB<0.1,2,0)\n",
    "B_host   = B.astype(np.float64)\n",
    "B_g      = cl.Buffer(context, mf.READ_WRITE | mf.COPY_HOST_PTR, hostbuf=B_host)\n",
    "\n",
    "# Load opencl function\n",
    "with open('SpatialFunctions_iPy.cl', 'r',encoding='utf-8') as myfile:\n",
    "   SpatialFunctions = myfile.read()\n",
    "\n",
    "# List of parameters for the OpenCL kernel. Seperate with comma without spaces\n",
    "# Setting up the parameters for the Kernel\n",
    "PassVars=\"q,nuw,nuh,alpha,eta,gamma,p,deltaw,deltah,Rw,Rh,f,dX,dY,dT,Grid_Width,Grid_Height\"\n",
    "PassVals=eval(PassVars)\n",
    "PassVars=PassVars.split(',')\n",
    "Params=\"\"\n",
    "for ii in range(len(PassVals)):\n",
    "    Params = Params+\"#define \" + PassVars[ii] + \" \" + str(PassVals[ii]) + \" \\n\"\n",
    "\n",
    "ComputeCode = \"\"\"\n",
    "///////////////////////////////////////////////////////////////////////////////\n",
    "// Simulation kernel\n",
    "///////////////////////////////////////////////////////////////////////////////   \n",
    "\n",
    "__kernel void SimulationKernel (__global float* H, __global float* W, __global float* B, __global float* CoefH)\n",
    "{\n",
    "    size_t current  = get_global_id(0);\n",
    "    size_t row      = floor((float)current/(float)Grid_Width);\n",
    "    size_t column   = current%Grid_Width;\n",
    "        CoefH[current] = H[current]*H[current];\n",
    "        if (row > 0 && row < Grid_Width-1 && column > 0 && column < Grid_Height-1)\n",
    "            {\n",
    "             float dHdt = p-alpha*(B[current]+q*f)/(B[current]+q)*H[current]-nuh/(1+Rh*B[current])*H[current]+deltah*d2_dxy2(CoefH);\n",
    "             float dWdt = alpha*(B[current]+q*f)/(B[current]+q)*H[current]-nuw/(1+Rw*B[current])*W[current]-gamma*B[current]*(1+eta*B[current])*(1+eta*B[current])*W[current]+deltaw*d2_dxy2(W);\n",
    "             float dBdt = W[current]*(1+eta*B[current])*(1+eta*B[current])*B[current]*(1-B[current])-B[current]+d2_dxy2(B);\n",
    "             H[current] = H[current] + dHdt*dT;\n",
    "             W[current] = W[current] + dWdt*dT;\n",
    "             B[current] = B[current] + dBdt*dT;\n",
    "            }\n",
    "            \n",
    "        // HANDLE Boundaries\n",
    "        else \n",
    "            {\n",
    "             PeriodicBoundaries(H);\n",
    "             PeriodicBoundaries(B);\n",
    "             PeriodicBoundaries(W);\n",
    "            }\n",
    "\n",
    "} // End SimulationKernel\n",
    "\"\"\"\n",
    "\n",
    "program = cl.Program(context, Params + SpatialFunctions + ComputeCode).build()\n",
    "\n",
    "from ipywidgets import FloatProgress\n",
    "from IPython.display import display\n",
    "\n",
    "# Setting up a progress bar for the simulation\n",
    "print(\"Progress :\");\n",
    "PB = FloatProgress(min=0, max=nplot); display(PB) \n",
    "\n",
    "#Ss=np.zeros((Grid_Width, Grid_Height, nplot))\n",
    "#Bs=np.zeros((Grid_Width, Grid_Height, nplot))\n",
    "\n",
    "# Set up simulation parameters\n",
    "global_size = H_host.shape\n",
    "\n",
    "# Start the timer:\n",
    "start_time = time.time()\n",
    "\n",
    "# Starting the loop\n",
    "for ii in range(1,nplot):\n",
    "    # The simulation\n",
    "    for jj in range(1,nsteps):      \n",
    "        program.SimulationKernel(queue, global_size, None, H_g, W_g, B_g, CoefH_g)\n",
    "\n",
    "    # Get the data from the GPU\n",
    "    cl.enqueue_copy(queue, H_host, H_g)\n",
    "    cl.enqueue_copy(queue, B_host, B_g)\n",
    "    \n",
    "    # We store the state of the system for <NumPlot> different times.\n",
    "    Hs = H_host.reshape(Grid_Width, Grid_Height)\n",
    "    Bs = B_host.reshape(Grid_Width, Grid_Height)\n",
    "    io.savemat('test/Arid_'+str(ii)+'.mat',{'B':Bs})\n",
    "    PB.value += 1 # signal to increment the progress bar\n",
    "\n",
    "# Determining the time that we used for the simulation\n",
    "elapsed_time = time.time() - start_time    \n",
    "print(\" Simulation took      : %1.1f (s)\" % (elapsed_time))"
   ]
  },
  {
   "cell_type": "code",
   "execution_count": null,
   "id": "a07e4aa7-3d75-477f-b130-ca6eac41116d",
   "metadata": {
    "tags": []
   },
   "outputs": [],
   "source": [
    "Bs = B_host.reshape(Grid_Width,Grid_Height)\n",
    "plt.imshow(Bs)\n",
    "plt.colorbar()"
   ]
  },
  {
   "cell_type": "code",
   "execution_count": null,
   "id": "df39f24b-302d-4a22-a50c-65be8b7853dd",
   "metadata": {
    "tags": []
   },
   "outputs": [],
   "source": [
    "print(np.max(B_host))"
   ]
  },
  {
   "cell_type": "markdown",
   "id": "986d4ec8-a7ac-4afd-8760-e82e679c6860",
   "metadata": {
    "tags": []
   },
   "source": [
    "from scipy import io\n",
    "\n",
    "io.savemat('data.mat',{'B':Bs})"
   ]
  },
  {
   "cell_type": "code",
   "execution_count": null,
   "id": "a67d3cfd-9376-456c-a4da-6ee1a874216c",
   "metadata": {
    "tags": []
   },
   "outputs": [],
   "source": [
    "print(p)"
   ]
  },
  {
   "cell_type": "code",
   "execution_count": null,
   "id": "28b8275b-9248-4cbb-b4a0-47a01731a73c",
   "metadata": {
    "tags": []
   },
   "outputs": [],
   "source": [
    "P       = 300.0\n",
    "RW      = 0.3\n",
    "RH      = 0.8\n",
    "f       = 0.01\n",
    "\n",
    "q       = Q/K\n",
    "nuw     = NW/M0\n",
    "nuh     = NH/M0\n",
    "alpha   = A/M0\n",
    "eta     = E*K\n",
    "gamma   = Gamma*K/M0\n",
    "p       = P*Lambda1/(M0*M0) #\n",
    "deltaw  = DW/DB\n",
    "deltah  = DH*M0/(DB*Lambda1)\n",
    "Rw      = RW\n",
    "Rh      = RH\n",
    "print(p)"
   ]
  },
  {
   "cell_type": "code",
   "execution_count": 1,
   "id": "3dee6c0a-88ca-4722-9069-06acb7bdb485",
   "metadata": {
    "tags": []
   },
   "outputs": [
    {
     "name": "stdout",
     "output_type": "stream",
     "text": [
      "p1.0\n"
     ]
    }
   ],
   "source": [
    "print('p'+str(1.0))"
   ]
  }
 ],
 "metadata": {
  "kernelspec": {
   "display_name": "Python 3 (ipykernel)",
   "language": "python",
   "name": "python3"
  },
  "language_info": {
   "codemirror_mode": {
    "name": "ipython",
    "version": 3
   },
   "file_extension": ".py",
   "mimetype": "text/x-python",
   "name": "python",
   "nbconvert_exporter": "python",
   "pygments_lexer": "ipython3",
   "version": "3.8.16"
  }
 },
 "nbformat": 4,
 "nbformat_minor": 5
}
